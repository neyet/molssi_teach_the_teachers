{
 "cells": [
  {
   "cell_type": "markdown",
   "metadata": {},
   "source": [
    "##  Friday notes"
   ]
  },
  {
   "cell_type": "markdown",
   "metadata": {},
   "source": [
    "### geometry analysis project solution"
   ]
  },
  {
   "cell_type": "code",
   "execution_count": 1,
   "metadata": {},
   "outputs": [],
   "source": [
    "# new student programmers may spend several hours and not get past the reading in of the xyz file\n",
    "# two solutions shown - one using genfromtext and one using readlines()\n",
    "# need numpy because of sqrt\n",
    "# need os because we need a file path"
   ]
  },
  {
   "cell_type": "code",
   "execution_count": 5,
   "metadata": {},
   "outputs": [
    {
     "ename": "ValueError",
     "evalue": "Some errors were detected !\n    Line #2 (got 3 columns instead of 1)\n    Line #3 (got 4 columns instead of 1)\n    Line #4 (got 4 columns instead of 1)\n    Line #5 (got 4 columns instead of 1)",
     "output_type": "error",
     "traceback": [
      "\u001b[1;31m---------------------------------------------------------------------------\u001b[0m",
      "\u001b[1;31mValueError\u001b[0m                                Traceback (most recent call last)",
      "\u001b[1;32m<ipython-input-5-4507b551975b>\u001b[0m in \u001b[0;36m<module>\u001b[1;34m\u001b[0m\n\u001b[0;32m      3\u001b[0m \u001b[1;33m\u001b[0m\u001b[0m\n\u001b[0;32m      4\u001b[0m \u001b[0mfile_location\u001b[0m \u001b[1;33m=\u001b[0m \u001b[0mos\u001b[0m\u001b[1;33m.\u001b[0m\u001b[0mpath\u001b[0m\u001b[1;33m.\u001b[0m\u001b[0mjoin\u001b[0m\u001b[1;33m(\u001b[0m\u001b[1;34m'water.xyz'\u001b[0m\u001b[1;33m)\u001b[0m\u001b[1;33m\u001b[0m\u001b[1;33m\u001b[0m\u001b[0m\n\u001b[1;32m----> 5\u001b[1;33m \u001b[0mxyz_file\u001b[0m \u001b[1;33m=\u001b[0m \u001b[0mnumpy\u001b[0m\u001b[1;33m.\u001b[0m\u001b[0mgenfromtxt\u001b[0m\u001b[1;33m(\u001b[0m\u001b[0mfname\u001b[0m\u001b[1;33m=\u001b[0m\u001b[0mfile_location\u001b[0m\u001b[1;33m,\u001b[0m \u001b[0mdtype\u001b[0m\u001b[1;33m=\u001b[0m\u001b[1;34m'unicode'\u001b[0m\u001b[1;33m)\u001b[0m\u001b[1;33m\u001b[0m\u001b[1;33m\u001b[0m\u001b[0m\n\u001b[0m",
      "\u001b[1;32m~\\AppData\\Local\\Continuum\\anaconda3\\lib\\site-packages\\numpy\\lib\\npyio.py\u001b[0m in \u001b[0;36mgenfromtxt\u001b[1;34m(fname, dtype, comments, delimiter, skip_header, skip_footer, converters, missing_values, filling_values, usecols, names, excludelist, deletechars, replace_space, autostrip, case_sensitive, defaultfmt, unpack, usemask, loose, invalid_raise, max_rows, encoding)\u001b[0m\n\u001b[0;32m   2073\u001b[0m             \u001b[1;31m# Raise an exception ?\u001b[0m\u001b[1;33m\u001b[0m\u001b[1;33m\u001b[0m\u001b[1;33m\u001b[0m\u001b[0m\n\u001b[0;32m   2074\u001b[0m             \u001b[1;32mif\u001b[0m \u001b[0minvalid_raise\u001b[0m\u001b[1;33m:\u001b[0m\u001b[1;33m\u001b[0m\u001b[1;33m\u001b[0m\u001b[0m\n\u001b[1;32m-> 2075\u001b[1;33m                 \u001b[1;32mraise\u001b[0m \u001b[0mValueError\u001b[0m\u001b[1;33m(\u001b[0m\u001b[0merrmsg\u001b[0m\u001b[1;33m)\u001b[0m\u001b[1;33m\u001b[0m\u001b[1;33m\u001b[0m\u001b[0m\n\u001b[0m\u001b[0;32m   2076\u001b[0m             \u001b[1;31m# Issue a warning ?\u001b[0m\u001b[1;33m\u001b[0m\u001b[1;33m\u001b[0m\u001b[1;33m\u001b[0m\u001b[0m\n\u001b[0;32m   2077\u001b[0m             \u001b[1;32melse\u001b[0m\u001b[1;33m:\u001b[0m\u001b[1;33m\u001b[0m\u001b[1;33m\u001b[0m\u001b[0m\n",
      "\u001b[1;31mValueError\u001b[0m: Some errors were detected !\n    Line #2 (got 3 columns instead of 1)\n    Line #3 (got 4 columns instead of 1)\n    Line #4 (got 4 columns instead of 1)\n    Line #5 (got 4 columns instead of 1)"
     ]
    }
   ],
   "source": [
    "import numpy\n",
    "import os\n",
    "\n",
    "file_location = os.path.join('water.xyz')\n",
    "xyz_file = numpy.genfromtxt(fname=file_location, dtype='unicode')"
   ]
  },
  {
   "cell_type": "code",
   "execution_count": 6,
   "metadata": {},
   "outputs": [],
   "source": [
    "#this doesn't work without header information\n",
    "# in line 1, there's a single digit; line 2 is a comment line; numpy genfromtext can only have an equal number of columns\n",
    "# need to skip header to make it a uniform number of columns"
   ]
  },
  {
   "cell_type": "code",
   "execution_count": 7,
   "metadata": {},
   "outputs": [],
   "source": [
    "file_location = os.path.join('water.xyz')\n",
    "xyz_file = numpy.genfromtxt(fname=file_location, dtype='unicode', skip_header = 2)"
   ]
  },
  {
   "cell_type": "code",
   "execution_count": 8,
   "metadata": {},
   "outputs": [],
   "source": [
    "symbols = xyz_file[:,0] #just first column  #these are different data types - float and string info\n",
    "coordinates = xyz_file[:,1:] #all rows, all but first column"
   ]
  },
  {
   "cell_type": "code",
   "execution_count": 9,
   "metadata": {},
   "outputs": [],
   "source": [
    "coordinates = coordinates.astype(numpy.float)  #recast coordinates as actual numbers (floats)"
   ]
  },
  {
   "cell_type": "code",
   "execution_count": 10,
   "metadata": {},
   "outputs": [],
   "source": [
    "# distance = [(x1 - x2)^2 + (y1 - y2)^2 + (z1 - z2)^2]^0.5\n",
    "# need nested for loops;  with each counting over the same thing"
   ]
  },
  {
   "cell_type": "code",
   "execution_count": 11,
   "metadata": {},
   "outputs": [],
   "source": [
    "num_atoms = len(symbols)  #since we skipped the headers, we lost the first line of the file; we can recalculate\n",
    "for num1 in range(0, num_atoms):  #can eliminate start index if it is the first - don't need 0; most prof prog don't use this start index\n",
    "    for num2 in range(0,num_atoms):\n",
    "        x_dist = coordinates[num1, 0] - coordinates[num2, 0] #always column 0 because it is the x coordinate; row must change\n",
    "        y_dist = coordinates[num1, 1] - coordinates[num2, 1] #always column 1 because it is the y coord\n",
    "        z_dist = coordinates[num1, 2] - coordinates[num2, 2] #always column 2 because z"
   ]
  },
  {
   "cell_type": "code",
   "execution_count": 12,
   "metadata": {},
   "outputs": [],
   "source": [
    "bond_length_12 = numpy.sqrt(x_dist**2 + y_dist**2+z_dist**2)"
   ]
  },
  {
   "cell_type": "code",
   "execution_count": 15,
   "metadata": {},
   "outputs": [
    {
     "name": "stdout",
     "output_type": "stream",
     "text": [
      "H2 to H2: 0.000\n"
     ]
    }
   ],
   "source": [
    "print(F'{symbols[num1]} to {symbols[num2]}: {bond_length_12:.3f}') #not in loop; only prints 1"
   ]
  },
  {
   "cell_type": "code",
   "execution_count": 16,
   "metadata": {},
   "outputs": [
    {
     "name": "stdout",
     "output_type": "stream",
     "text": [
      "O to O: 0.000\n",
      "O to H1: 0.969\n",
      "O to H2: 0.969\n",
      "H1 to O: 0.969\n",
      "H1 to H1: 0.000\n",
      "H1 to H2: 1.527\n",
      "H2 to O: 0.969\n",
      "H2 to H1: 1.527\n",
      "H2 to H2: 0.000\n"
     ]
    }
   ],
   "source": [
    "num_atoms = len(symbols)  #since we skipped the headers, we lost the first line of the file; we can recalculate\n",
    "for num1 in range(0, num_atoms):  #can eliminate start index if it is the first - don't need 0; most prof prog don't use this start index\n",
    "    for num2 in range(0,num_atoms):\n",
    "        x_dist = coordinates[num1, 0] - coordinates[num2, 0] #always column 0 because it is the x coordinate; row must change\n",
    "        y_dist = coordinates[num1, 1] - coordinates[num2, 1] #always column 1 because it is the y coord\n",
    "        z_dist = coordinates[num1, 2] - coordinates[num2, 2] #always column 2 because z\n",
    "        bond_length_12 = numpy.sqrt(x_dist**2 + y_dist**2+z_dist**2)\n",
    "        print(F'{symbols[num1]} to {symbols[num2]}: {bond_length_12:.3f}')\n",
    "        "
   ]
  },
  {
   "cell_type": "code",
   "execution_count": 17,
   "metadata": {},
   "outputs": [
    {
     "name": "stdout",
     "output_type": "stream",
     "text": [
      "O to H1: 0.969\n",
      "O to H2: 0.969\n",
      "H1 to O: 0.969\n",
      "H2 to O: 0.969\n"
     ]
    }
   ],
   "source": [
    "# but we know all those things aren't really bonded to one another. \n",
    "\n",
    "num_atoms = len(symbols)  #since we skipped the headers, we lost the first line of the file; we can recalculate\n",
    "for num1 in range(0, num_atoms):  #can eliminate start index if it is the first - don't need 0; most prof prog don't use this start index\n",
    "    for num2 in range(0,num_atoms):\n",
    "        x_dist = coordinates[num1, 0] - coordinates[num2, 0] #always column 0 because it is the x coordinate; row must change\n",
    "        y_dist = coordinates[num1, 1] - coordinates[num2, 1] #always column 1 because it is the y coord\n",
    "        z_dist = coordinates[num1, 2] - coordinates[num2, 2] #always column 2 because z\n",
    "        bond_length_12 = numpy.sqrt(x_dist**2 + y_dist**2+z_dist**2)\n",
    "        if bond_length_12 > 0 and bond_length_12 < 1.5:\n",
    "            print(F'{symbols[num1]} to {symbols[num2]}: {bond_length_12:.3f}')\n",
    "\n",
    "#why bond length > 0?  eliminates the 0.0 (atoms bonded to itself); also checks error in the event of negative number\n",
    "        "
   ]
  },
  {
   "cell_type": "code",
   "execution_count": 18,
   "metadata": {},
   "outputs": [
    {
     "name": "stdout",
     "output_type": "stream",
     "text": [
      "O to H1: 0.969\n",
      "O to H2: 0.969\n"
     ]
    }
   ],
   "source": [
    "# still have duplicates\n",
    "# think about this in matrix-like way - write it out first\n",
    "\n",
    "num_atoms = len(symbols)  \n",
    "for num1 in range(0, num_atoms):  \n",
    "    for num2 in range(0,num_atoms):\n",
    "        if num1 < num2:\n",
    "            x_dist = coordinates[num1, 0] - coordinates[num2, 0] #always column 0 because it is the x coordinate; row must change\n",
    "            y_dist = coordinates[num1, 1] - coordinates[num2, 1] #always column 1 because it is the y coord\n",
    "            z_dist = coordinates[num1, 2] - coordinates[num2, 2] #always column 2 because z\n",
    "            bond_length_12 = numpy.sqrt(x_dist**2 + y_dist**2+z_dist**2)\n",
    "            if bond_length_12 > 0 and bond_length_12 < 1.5:\n",
    "                print(F'{symbols[num1]} to {symbols[num2]}: {bond_length_12:.3f}')"
   ]
  },
  {
   "cell_type": "code",
   "execution_count": 19,
   "metadata": {},
   "outputs": [],
   "source": [
    "# this can't be reused without being cut/pasted\n",
    "# should define it as a new function so you can recall it\n",
    "# this makes code faster to test"
   ]
  },
  {
   "cell_type": "code",
   "execution_count": 20,
   "metadata": {},
   "outputs": [],
   "source": [
    "# def function_name(parameters):\n",
    "    #function code goes here\n",
    "    #this could be multiple lines\n",
    "    #return value_to_return\n",
    "    \n",
    "#this about this in the simplest possible way, without thinking about where the data is coming from in this case"
   ]
  },
  {
   "cell_type": "code",
   "execution_count": 22,
   "metadata": {},
   "outputs": [],
   "source": [
    "def calculate_distance(atom1_coord, atom2_coord):\n",
    "    x_dist = atom1_coord[0] - atom2_coord[0]\n",
    "    y_dist = atom1_coord[1] - atom2_coord[1]\n",
    "    z_dist = atom1_coord[2] - atom2_coord[2]\n",
    "    distance = numpy.sqrt(x_dist**2 + y_dist**2 + z_dist**2)\n",
    "    return distance\n",
    "\n",
    "# dont forget to execute this cell - if you don't it won't work"
   ]
  },
  {
   "cell_type": "code",
   "execution_count": 23,
   "metadata": {},
   "outputs": [
    {
     "name": "stdout",
     "output_type": "stream",
     "text": [
      "O to H1: 0.969\n",
      "O to H2: 0.969\n"
     ]
    }
   ],
   "source": [
    "num_atoms = len(symbols)  \n",
    "for num1 in range(0, num_atoms):\n",
    "    for num2 in range(0,num_atoms):\n",
    "        if num1 < num2:\n",
    "            bond_length_12 = calculate_distance(coordinates[num1], coordinates[num2])\n",
    "            if bond_length_12 > 0 and bond_length_12 < 1.5:\n",
    "                print(F'{symbols[num1]} to {symbols[num2]}: {bond_length_12:.3f}')"
   ]
  },
  {
   "cell_type": "code",
   "execution_count": 24,
   "metadata": {},
   "outputs": [
    {
     "name": "stdout",
     "output_type": "stream",
     "text": [
      "Help on function calculate_distance in module __main__:\n",
      "\n",
      "calculate_distance(atom1_coord, atom2_coord)\n",
      "\n"
     ]
    }
   ],
   "source": [
    "help(calculate_distance)"
   ]
  },
  {
   "cell_type": "code",
   "execution_count": 25,
   "metadata": {},
   "outputs": [],
   "source": [
    "# best practice is to document all of your functions\n",
    "# do so with a doc string - in between sets of triple quotes - write documentation for how this works\n",
    "# different libraries do this differently.  anything is better than nothing\n",
    "\n",
    "def calculate_distance(atom1_coord, atom2_coord):\n",
    "    \"\"\"\n",
    "    This function takes the coordinates of two atoms and calculates the distances between them.\n",
    "    Inputs: atom1_coord, atom2_coord\n",
    "    return: distance\n",
    "    \"\"\"\n",
    "    x_dist = atom1_coord[0] - atom2_coord[0]\n",
    "    y_dist = atom1_coord[1] - atom2_coord[1]\n",
    "    z_dist = atom1_coord[2] - atom2_coord[2]\n",
    "    distance = numpy.sqrt(x_dist**2 + y_dist**2 + z_dist**2)\n",
    "    return distance"
   ]
  },
  {
   "cell_type": "code",
   "execution_count": 26,
   "metadata": {},
   "outputs": [
    {
     "name": "stdout",
     "output_type": "stream",
     "text": [
      "Help on function calculate_distance in module __main__:\n",
      "\n",
      "calculate_distance(atom1_coord, atom2_coord)\n",
      "    This function takes the coordinates of two atoms and calculates the distances between them.\n",
      "    Inputs: atom1_coord, atom2_coord\n",
      "    return: distance\n",
      "\n"
     ]
    }
   ],
   "source": [
    "help(calculate_distance)"
   ]
  },
  {
   "cell_type": "code",
   "execution_count": 27,
   "metadata": {},
   "outputs": [],
   "source": [
    "#write a new function called bond_check.  Check and see if a distance is between 0 and 1.5 angstroms. Return True or False.\n",
    "# True and False are reserved words in python"
   ]
  },
  {
   "cell_type": "code",
   "execution_count": 34,
   "metadata": {},
   "outputs": [],
   "source": [
    "def bond_check(bond_distance):\n",
    "    \"\"\"\n",
    "    This function checks a single bond length for distance.  Returns true or false.\n",
    "    \"\"\"\n",
    "    if bond_distance < 0 or bond_distance > 1.5:\n",
    "        return False\n",
    "    else:\n",
    "        return True\n",
    "    "
   ]
  },
  {
   "cell_type": "code",
   "execution_count": 35,
   "metadata": {},
   "outputs": [
    {
     "data": {
      "text/plain": [
       "False"
      ]
     },
     "execution_count": 35,
     "metadata": {},
     "output_type": "execute_result"
    }
   ],
   "source": [
    "bond_check(4)"
   ]
  },
  {
   "cell_type": "code",
   "execution_count": 36,
   "metadata": {},
   "outputs": [
    {
     "data": {
      "text/plain": [
       "True"
      ]
     },
     "execution_count": 36,
     "metadata": {},
     "output_type": "execute_result"
    }
   ],
   "source": [
    "bond_check(1.2)"
   ]
  },
  {
   "cell_type": "code",
   "execution_count": 37,
   "metadata": {},
   "outputs": [
    {
     "data": {
      "text/plain": [
       "False"
      ]
     },
     "execution_count": 37,
     "metadata": {},
     "output_type": "execute_result"
    }
   ],
   "source": [
    "bond_check(-7)"
   ]
  },
  {
   "cell_type": "code",
   "execution_count": 38,
   "metadata": {},
   "outputs": [],
   "source": [
    "def bond_check(bond_distance, min_length, max_length):\n",
    "    \"\"\"\n",
    "    This function checks a single bond length for distance.  Compares this to specified min (spec first)\n",
    "    or maxiumum bond (spec second) values.  Returns true or false.\n",
    "    \"\"\"\n",
    "    if bond_distance < min_length or bond_distance > max_length:\n",
    "        return False\n",
    "    else:\n",
    "        return True"
   ]
  },
  {
   "cell_type": "code",
   "execution_count": 39,
   "metadata": {},
   "outputs": [
    {
     "data": {
      "text/plain": [
       "True"
      ]
     },
     "execution_count": 39,
     "metadata": {},
     "output_type": "execute_result"
    }
   ],
   "source": [
    "bond_check(2,1,4)"
   ]
  },
  {
   "cell_type": "code",
   "execution_count": 41,
   "metadata": {},
   "outputs": [
    {
     "data": {
      "text/plain": [
       "False"
      ]
     },
     "execution_count": 41,
     "metadata": {},
     "output_type": "execute_result"
    }
   ],
   "source": [
    "bond_check(5,1,4)"
   ]
  },
  {
   "cell_type": "code",
   "execution_count": 42,
   "metadata": {},
   "outputs": [],
   "source": [
    "#this is more laborious - which can be helpful, but sometimes not necessary\n",
    "# can make this optional; set a default for each variable so that if it isn't specified it uses that\n",
    "\n",
    "def bond_check(bond_distance, min_length=0, max_length=1.5):\n",
    "    \"\"\"\n",
    "    This function checks a single bond length for distance.  Compares this to specified min (spec first, default=0)\n",
    "    or maxiumum bond (spec second, default = 1.5) values.  Returns true or false.\n",
    "    \"\"\"\n",
    "    if bond_distance < min_length or bond_distance > max_length:\n",
    "        return False\n",
    "    else:\n",
    "        return True"
   ]
  },
  {
   "cell_type": "code",
   "execution_count": 43,
   "metadata": {},
   "outputs": [],
   "source": [
    "#everything that doesn't have a default needs to be specified before things that do"
   ]
  },
  {
   "cell_type": "code",
   "execution_count": 46,
   "metadata": {},
   "outputs": [
    {
     "data": {
      "text/plain": [
       "True"
      ]
     },
     "execution_count": 46,
     "metadata": {},
     "output_type": "execute_result"
    }
   ],
   "source": [
    "bond_check(1.4)"
   ]
  },
  {
   "cell_type": "code",
   "execution_count": 47,
   "metadata": {},
   "outputs": [
    {
     "data": {
      "text/plain": [
       "False"
      ]
     },
     "execution_count": 47,
     "metadata": {},
     "output_type": "execute_result"
    }
   ],
   "source": [
    "bond_check(1.4, max_length=1.3)"
   ]
  },
  {
   "cell_type": "code",
   "execution_count": 48,
   "metadata": {},
   "outputs": [
    {
     "name": "stdout",
     "output_type": "stream",
     "text": [
      "O to H1: 0.969\n",
      "O to H2: 0.969\n"
     ]
    }
   ],
   "source": [
    "num_atoms = len(symbols)  \n",
    "for num1 in range(0, num_atoms):\n",
    "    for num2 in range(0,num_atoms):\n",
    "        if num1 < num2:\n",
    "            bond_length_12 = calculate_distance(coordinates[num1], coordinates[num2])\n",
    "            if bond_check(bond_length_12) is True:\n",
    "                print(F'{symbols[num1]} to {symbols[num2]}: {bond_length_12:.3f}')"
   ]
  },
  {
   "cell_type": "code",
   "execution_count": 49,
   "metadata": {},
   "outputs": [],
   "source": [
    "# write a function that reads in and processes an xyz file.\n",
    "# function name = open_xyz\n",
    "# input = filename\n",
    "# output = symbols and coordinates"
   ]
  },
  {
   "cell_type": "code",
   "execution_count": 52,
   "metadata": {},
   "outputs": [],
   "source": [
    "def open_xyz(filename):\n",
    "    import os\n",
    "    import numpy\n",
    "    file_location = os.path.join('water.xyz')\n",
    "    xyz_file = numpy.genfromtxt(fname=file_location, dtype='unicode', skip_header = 2)\n",
    "    symbols = xyz_file[:,0]\n",
    "    coordinates = xyz_file[:, 1:]\n",
    "    return symbols, coordinates"
   ]
  },
  {
   "cell_type": "code",
   "execution_count": 54,
   "metadata": {},
   "outputs": [
    {
     "data": {
      "text/plain": [
       "(array(['O', 'H1', 'H2'], dtype='<U9'),\n",
       " array([['0.000000', '-0.007156', '0.965491'],\n",
       "        ['-0.000000', '0.001486', '-0.003471'],\n",
       "        ['0.000000', '0.931026', '1.207929']], dtype='<U9'))"
      ]
     },
     "execution_count": 54,
     "metadata": {},
     "output_type": "execute_result"
    }
   ],
   "source": [
    "open_xyz('water.xyz')"
   ]
  },
  {
   "cell_type": "code",
   "execution_count": 62,
   "metadata": {},
   "outputs": [],
   "source": [
    "def open_xyz(filename):\n",
    "    xyz_file = numpy.genfromtxt(fname=file_location, dtype='unicode', skip_header = 2)\n",
    "    symbols = xyz_file[:,0]\n",
    "    coordinates = xyz_file[:, 1:]\n",
    "    coordinates = coordinates.astype(numpy.float)\n",
    "    return symbols, coordinates"
   ]
  },
  {
   "cell_type": "code",
   "execution_count": 63,
   "metadata": {},
   "outputs": [
    {
     "data": {
      "text/plain": [
       "(array(['O', 'H1', 'H2'], dtype='<U9'),\n",
       " array([[ 0.      , -0.007156,  0.965491],\n",
       "        [-0.      ,  0.001486, -0.003471],\n",
       "        [ 0.      ,  0.931026,  1.207929]]))"
      ]
     },
     "execution_count": 63,
     "metadata": {},
     "output_type": "execute_result"
    }
   ],
   "source": [
    "open_xyz('water.xyz')"
   ]
  },
  {
   "cell_type": "code",
   "execution_count": null,
   "metadata": {},
   "outputs": [],
   "source": []
  }
 ],
 "metadata": {
  "kernelspec": {
   "display_name": "Python 3",
   "language": "python",
   "name": "python3"
  },
  "language_info": {
   "codemirror_mode": {
    "name": "ipython",
    "version": 3
   },
   "file_extension": ".py",
   "mimetype": "text/x-python",
   "name": "python",
   "nbconvert_exporter": "python",
   "pygments_lexer": "ipython3",
   "version": "3.7.3"
  }
 },
 "nbformat": 4,
 "nbformat_minor": 2
}
