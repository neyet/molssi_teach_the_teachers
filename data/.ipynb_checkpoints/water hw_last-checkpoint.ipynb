{
 "cells": [
  {
   "cell_type": "code",
   "execution_count": 5,
   "metadata": {},
   "outputs": [],
   "source": [
    "import os\n",
    "\n",
    "water_filepath = os.path.join('water.xyz') \n",
    "outfile = open(water_filepath,\"r\")\n",
    "data3 = outfile.readlines()\n",
    "outfile.close\n",
    "\n",
    "datafile = open('OHH.txt','w+')   \n",
    "\n",
    "for line in data3:\n",
    "        if 'O' in line:\n",
    "            coord = line\n",
    "    \n",
    "for line in data3:\n",
    "        if 'H1' in line:\n",
    "            coord2 = line\n",
    "\n",
    "for line in data3:\n",
    "        if 'H2' in line:\n",
    "            coord3 = line\n",
    "        \n",
    "datafile.write(F'{coord} {coord2} {coord3}')\n",
    "\n",
    "datafile.close()"
   ]
  },
  {
   "cell_type": "code",
   "execution_count": 6,
   "metadata": {},
   "outputs": [],
   "source": [
    "import numpy"
   ]
  },
  {
   "cell_type": "code",
   "execution_count": 10,
   "metadata": {},
   "outputs": [
    {
     "name": "stdout",
     "output_type": "stream",
     "text": [
      "[['O' '0.000000' '-0.007156' '0.965491']\n",
      " ['H1' '-0.000000' '0.001486' '-0.003471']\n",
      " ['H2' '0.000000' '0.931026' '1.207929']]\n"
     ]
    }
   ],
   "source": [
    "xyz_file= os.path.join(\"OHH.txt\")\n",
    "\n",
    "hw_file = numpy.genfromtxt(fname=xyz_file,  dtype='unicode')\n",
    "print(hw_file)"
   ]
  },
  {
   "cell_type": "code",
   "execution_count": 61,
   "metadata": {},
   "outputs": [
    {
     "name": "stdout",
     "output_type": "stream",
     "text": [
      "['O' 'H1' 'H2']\n"
     ]
    }
   ],
   "source": [
    "atom_labels = hw_file[:,0]\n",
    "print(atom_labels)"
   ]
  },
  {
   "cell_type": "code",
   "execution_count": 25,
   "metadata": {},
   "outputs": [
    {
     "name": "stdout",
     "output_type": "stream",
     "text": [
      "[['0.000000' '-0.007156' '0.965491']\n",
      " ['-0.000000' '0.001486' '-0.003471']\n",
      " ['0.000000' '0.931026' '1.207929']]\n"
     ]
    }
   ],
   "source": [
    "coord = hw_file[:,1:]\n",
    "print(coord)"
   ]
  },
  {
   "cell_type": "code",
   "execution_count": 46,
   "metadata": {},
   "outputs": [
    {
     "name": "stdout",
     "output_type": "stream",
     "text": [
      "[[ 0.       -0.007156  0.965491]\n",
      " [-0.        0.001486 -0.003471]\n",
      " [ 0.        0.931026  1.207929]]\n"
     ]
    }
   ],
   "source": [
    "coord = coord.astype(numpy.float)\n",
    "print(coord)"
   ]
  },
  {
   "cell_type": "code",
   "execution_count": 53,
   "metadata": {},
   "outputs": [
    {
     "name": "stdout",
     "output_type": "stream",
     "text": [
      "0.0 0.0 0.0\n",
      "-0.0 0.008642 -0.968962\n",
      "0.0 0.9381820000000001 0.24243800000000004\n",
      "0.0 -0.008642 0.968962\n",
      "0.0 0.0 0.0\n",
      "0.0 0.92954 1.2114\n",
      "0.0 -0.9381820000000001 -0.24243800000000004\n",
      "-0.0 -0.92954 -1.2114\n",
      "0.0 0.0 0.0\n"
     ]
    }
   ],
   "source": [
    "for num1 in range(0,3):\n",
    "    for num2 in range(0,3):\n",
    "        xdist = coord[num2,0] - coord[num1,0]\n",
    "        ydist = coord[num2,1] - coord[num1,1]\n",
    "        zdist = coord[num2,2] - coord[num1,2]\n",
    "        \n",
    "        print(xdist, ydist, zdist)"
   ]
  },
  {
   "cell_type": "code",
   "execution_count": 77,
   "metadata": {},
   "outputs": [
    {
     "name": "stdout",
     "output_type": "stream",
     "text": [
      "O to O 0.0\n",
      "O to H1 0.9690005374652793\n",
      "O to H2 0.9690003348647513\n",
      "H1 to O 0.9690005374652793\n",
      "H1 to H1 0.0\n",
      "H1 to H2 1.52693633514957\n",
      "H2 to O 0.9690003348647513\n",
      "H2 to H1 1.52693633514957\n",
      "H2 to H2 0.0\n"
     ]
    }
   ],
   "source": [
    "for num1 in range(0,3):\n",
    "    for num2 in range(0,3):\n",
    "        xdist = coord[num2,0] - coord[num1,0]\n",
    "        ydist = coord[num2,1] - coord[num1,1]\n",
    "        zdist = coord[num2,2] - coord[num1,2]\n",
    "        \n",
    "        bond_dist = numpy.sqrt(xdist**2 + ydist**2 + zdist**2)\n",
    "        \n",
    "        print(atom_labels[num1], 'to', atom_labels[num2], bond_dist)"
   ]
  },
  {
   "cell_type": "code",
   "execution_count": null,
   "metadata": {},
   "outputs": [],
   "source": []
  }
 ],
 "metadata": {
  "kernelspec": {
   "display_name": "Python 3",
   "language": "python",
   "name": "python3"
  },
  "language_info": {
   "codemirror_mode": {
    "name": "ipython",
    "version": 3
   },
   "file_extension": ".py",
   "mimetype": "text/x-python",
   "name": "python",
   "nbconvert_exporter": "python",
   "pygments_lexer": "ipython3",
   "version": "3.7.3"
  }
 },
 "nbformat": 4,
 "nbformat_minor": 2
}
