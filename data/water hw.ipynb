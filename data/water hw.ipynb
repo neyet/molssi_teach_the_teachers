{
 "cells": [
  {
   "cell_type": "code",
   "execution_count": 2,
   "metadata": {},
   "outputs": [
    {
     "data": {
      "text/plain": [
       "'C:\\\\Users\\\\neyet\\\\Desktop\\\\cms-workshop\\\\data'"
      ]
     },
     "execution_count": 2,
     "metadata": {},
     "output_type": "execute_result"
    }
   ],
   "source": [
    "pwd\n"
   ]
  },
  {
   "cell_type": "code",
   "execution_count": 5,
   "metadata": {},
   "outputs": [
    {
     "name": "stdout",
     "output_type": "stream",
     "text": [
      "5\n"
     ]
    }
   ],
   "source": [
    "import os\n",
    "\n",
    "water_filepath = os.path.join('water.xyz') \n",
    "outfile = open(water_filepath,\"r\")\n",
    "data3 = outfile.readlines()\n",
    "outfile.close\n",
    "\n",
    "print(len(data3))"
   ]
  },
  {
   "cell_type": "code",
   "execution_count": 7,
   "metadata": {},
   "outputs": [
    {
     "name": "stdout",
     "output_type": "stream",
     "text": [
      "3\n",
      "\n",
      "Water xyz file\n",
      "\n",
      "O        0.000000     -0.007156      0.965491\n",
      "\n",
      "H1      -0.000000      0.001486     -0.003471\n",
      "\n",
      "H2       0.000000      0.931026      1.207929\n",
      "\n"
     ]
    }
   ],
   "source": [
    "for lines in data3:\n",
    "    print(lines)\n"
   ]
  },
  {
   "cell_type": "code",
   "execution_count": 30,
   "metadata": {},
   "outputs": [
    {
     "name": "stdout",
     "output_type": "stream",
     "text": [
      "O        0.000000     -0.007156      0.965491\n",
      "\n",
      "H1      -0.000000      0.001486     -0.003471\n",
      "\n",
      "H2       0.000000      0.931026      1.207929\n",
      "\n"
     ]
    }
   ],
   "source": [
    "for line in data3:\n",
    "        if 'O' in line:\n",
    "            coord = line\n",
    "            print(coord)\n",
    "            \n",
    "O_coord = coord.split()\n",
    "O_x = float(O_coord[1])\n",
    "O_y = float(O_coord[2])\n",
    "O_z = float(O_coord[3])\n",
    "\n",
    "for line in data3:\n",
    "        if 'H1' in line:\n",
    "            coord2 = line\n",
    "            print(coord2)\n",
    "            \n",
    "H1_coord = coord2.split()\n",
    "H1_x = float(H1_coord[1])\n",
    "H1_y = float(H1_coord[2])\n",
    "H1_z = float(H1_coord[3])\n",
    "\n",
    "for line in data3:\n",
    "        if 'H2' in line:\n",
    "            coord3 = line\n",
    "            print(coord3)\n",
    "            \n",
    "H2_coord = coord3.split()\n",
    "H2_x = float(H2_coord[1])\n",
    "H2_y = float(H2_coord[2])\n",
    "H2_z = float(H2_coord[3])"
   ]
  },
  {
   "cell_type": "code",
   "execution_count": 26,
   "metadata": {},
   "outputs": [],
   "source": []
  },
  {
   "cell_type": "code",
   "execution_count": null,
   "metadata": {},
   "outputs": [],
   "source": []
  }
 ],
 "metadata": {
  "kernelspec": {
   "display_name": "Python 3",
   "language": "python",
   "name": "python3"
  },
  "language_info": {
   "codemirror_mode": {
    "name": "ipython",
    "version": 3
   },
   "file_extension": ".py",
   "mimetype": "text/x-python",
   "name": "python",
   "nbconvert_exporter": "python",
   "pygments_lexer": "ipython3",
   "version": "3.7.3"
  }
 },
 "nbformat": 4,
 "nbformat_minor": 2
}
